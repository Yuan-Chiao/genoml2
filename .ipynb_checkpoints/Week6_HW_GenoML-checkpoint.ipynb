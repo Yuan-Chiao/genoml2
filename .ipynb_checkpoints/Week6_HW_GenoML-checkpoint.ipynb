{
 "cells": [
  {
   "cell_type": "code",
   "execution_count": 1,
   "metadata": {},
   "outputs": [
    {
     "name": "stdout",
     "output_type": "stream",
     "text": [
      "Requirement already satisfied: genoml2 in c:\\users\\nihyc\\documents\\github\\biof309\\genoml2 (1.0.0b4)\n",
      "Requirement already satisfied: joblib in c:\\users\\nihyc\\anaconda3\\lib\\site-packages (from genoml2) (0.17.0)\n",
      "Requirement already satisfied: matplotlib in c:\\users\\nihyc\\anaconda3\\lib\\site-packages (from genoml2) (3.0.3)\n",
      "Requirement already satisfied: numpy in c:\\users\\nihyc\\anaconda3\\lib\\site-packages (from genoml2) (1.16.2)\n",
      "Requirement already satisfied: tables in c:\\users\\nihyc\\anaconda3\\lib\\site-packages (from genoml2) (3.5.1)\n",
      "Requirement already satisfied: pandas in c:\\users\\nihyc\\anaconda3\\lib\\site-packages (from genoml2) (1.1.3)\n",
      "Requirement already satisfied: pandas_plink in c:\\users\\nihyc\\anaconda3\\lib\\site-packages (from genoml2) (2.2.1)\n",
      "Requirement already satisfied: requests in c:\\users\\nihyc\\anaconda3\\lib\\site-packages (from genoml2) (2.21.0)\n",
      "Requirement already satisfied: scikit-learn in c:\\users\\nihyc\\anaconda3\\lib\\site-packages (from genoml2) (0.20.3)\n",
      "Requirement already satisfied: scipy in c:\\users\\nihyc\\anaconda3\\lib\\site-packages (from genoml2) (1.2.1)\n",
      "Requirement already satisfied: seaborn in c:\\users\\nihyc\\anaconda3\\lib\\site-packages (from genoml2) (0.10.1)\n",
      "Requirement already satisfied: statsmodels in c:\\users\\nihyc\\anaconda3\\lib\\site-packages (from genoml2) (0.9.0)\n",
      "Requirement already satisfied: xgboost in c:\\users\\nihyc\\anaconda3\\lib\\site-packages (from genoml2) (1.2.1)\n",
      "Requirement already satisfied: cycler>=0.10 in c:\\users\\nihyc\\anaconda3\\lib\\site-packages (from matplotlib->genoml2) (0.10.0)\n",
      "Requirement already satisfied: kiwisolver>=1.0.1 in c:\\users\\nihyc\\anaconda3\\lib\\site-packages (from matplotlib->genoml2) (1.0.1)\n",
      "Requirement already satisfied: pyparsing!=2.0.4,!=2.1.2,!=2.1.6,>=2.0.1 in c:\\users\\nihyc\\anaconda3\\lib\\site-packages (from matplotlib->genoml2) (2.3.1)\n",
      "Requirement already satisfied: python-dateutil>=2.1 in c:\\users\\nihyc\\anaconda3\\lib\\site-packages (from matplotlib->genoml2) (2.8.0)\n",
      "Requirement already satisfied: numexpr>=2.6.2 in c:\\users\\nihyc\\anaconda3\\lib\\site-packages (from tables->genoml2) (2.6.9)\n",
      "Requirement already satisfied: six>=1.9.0 in c:\\users\\nihyc\\anaconda3\\lib\\site-packages (from tables->genoml2) (1.12.0)\n",
      "Requirement already satisfied: mock>=2.0 in c:\\users\\nihyc\\anaconda3\\lib\\site-packages (from tables->genoml2) (4.0.2)\n",
      "Requirement already satisfied: pytz>=2017.2 in c:\\users\\nihyc\\anaconda3\\lib\\site-packages (from pandas->genoml2) (2018.9)\n",
      "Requirement already satisfied: tqdm>=4.36.1 in c:\\users\\nihyc\\anaconda3\\lib\\site-packages (from pandas_plink->genoml2) (4.50.2)\n",
      "Requirement already satisfied: zstandard>=0.13.0 in c:\\users\\nihyc\\anaconda3\\lib\\site-packages (from pandas_plink->genoml2) (0.14.0)\n",
      "Requirement already satisfied: cffi>=1.14.3 in c:\\users\\nihyc\\anaconda3\\lib\\site-packages (from pandas_plink->genoml2) (1.14.3)\n",
      "Requirement already satisfied: dask[array,dataframe]>=2.6.0 in c:\\users\\nihyc\\anaconda3\\lib\\site-packages (from pandas_plink->genoml2) (2.30.0)\n",
      "Requirement already satisfied: Deprecated>=1.2.6 in c:\\users\\nihyc\\anaconda3\\lib\\site-packages (from pandas_plink->genoml2) (1.2.10)\n",
      "Requirement already satisfied: pytest>=5.2.2 in c:\\users\\nihyc\\anaconda3\\lib\\site-packages (from pandas_plink->genoml2) (6.1.1)\n",
      "Requirement already satisfied: xarray>=0.16.1 in c:\\users\\nihyc\\anaconda3\\lib\\site-packages (from pandas_plink->genoml2) (0.16.1)\n",
      "Requirement already satisfied: urllib3<1.25,>=1.21.1 in c:\\users\\nihyc\\anaconda3\\lib\\site-packages (from requests->genoml2) (1.24.1)\n",
      "Requirement already satisfied: chardet<3.1.0,>=3.0.2 in c:\\users\\nihyc\\anaconda3\\lib\\site-packages (from requests->genoml2) (3.0.4)\n",
      "Requirement already satisfied: idna<2.9,>=2.5 in c:\\users\\nihyc\\anaconda3\\lib\\site-packages (from requests->genoml2) (2.8)\n",
      "Requirement already satisfied: certifi>=2017.4.17 in c:\\users\\nihyc\\anaconda3\\lib\\site-packages (from requests->genoml2) (2019.3.9)\n",
      "Requirement already satisfied: setuptools in c:\\users\\nihyc\\anaconda3\\lib\\site-packages (from kiwisolver>=1.0.1->matplotlib->genoml2) (40.8.0)\n",
      "Requirement already satisfied: pycparser in c:\\users\\nihyc\\anaconda3\\lib\\site-packages (from cffi>=1.14.3->pandas_plink->genoml2) (2.19)\n",
      "Requirement already satisfied: pyyaml in c:\\users\\nihyc\\anaconda3\\lib\\site-packages (from dask[array,dataframe]>=2.6.0->pandas_plink->genoml2) (5.1)\n",
      "Requirement already satisfied: toolz>=0.8.2; extra == \"array\" in c:\\users\\nihyc\\anaconda3\\lib\\site-packages (from dask[array,dataframe]>=2.6.0->pandas_plink->genoml2) (0.9.0)\n",
      "Requirement already satisfied: fsspec>=0.6.0; extra == \"dataframe\" in c:\\users\\nihyc\\anaconda3\\lib\\site-packages (from dask[array,dataframe]>=2.6.0->pandas_plink->genoml2) (0.8.4)\n",
      "Requirement already satisfied: partd>=0.3.10; extra == \"dataframe\" in c:\\users\\nihyc\\anaconda3\\lib\\site-packages (from dask[array,dataframe]>=2.6.0->pandas_plink->genoml2) (0.3.10)\n",
      "Requirement already satisfied: wrapt<2,>=1.10 in c:\\users\\nihyc\\anaconda3\\lib\\site-packages (from Deprecated>=1.2.6->pandas_plink->genoml2) (1.11.1)\n",
      "Requirement already satisfied: iniconfig in c:\\users\\nihyc\\anaconda3\\lib\\site-packages (from pytest>=5.2.2->pandas_plink->genoml2) (1.1.1)\n",
      "Requirement already satisfied: colorama; sys_platform == \"win32\" in c:\\users\\nihyc\\anaconda3\\lib\\site-packages (from pytest>=5.2.2->pandas_plink->genoml2) (0.4.1)\n",
      "Requirement already satisfied: toml in c:\\users\\nihyc\\anaconda3\\lib\\site-packages (from pytest>=5.2.2->pandas_plink->genoml2) (0.10.1)\n",
      "Requirement already satisfied: atomicwrites>=1.0; sys_platform == \"win32\" in c:\\users\\nihyc\\anaconda3\\lib\\site-packages (from pytest>=5.2.2->pandas_plink->genoml2) (1.3.0)\n",
      "Requirement already satisfied: attrs>=17.4.0 in c:\\users\\nihyc\\anaconda3\\lib\\site-packages (from pytest>=5.2.2->pandas_plink->genoml2) (19.1.0)\n",
      "Requirement already satisfied: pluggy<1.0,>=0.12 in c:\\users\\nihyc\\anaconda3\\lib\\site-packages (from pytest>=5.2.2->pandas_plink->genoml2) (0.13.1)\n",
      "Requirement already satisfied: importlib-metadata>=0.12; python_version < \"3.8\" in c:\\users\\nihyc\\anaconda3\\lib\\site-packages (from pytest>=5.2.2->pandas_plink->genoml2) (2.0.0)\n",
      "Requirement already satisfied: py>=1.8.2 in c:\\users\\nihyc\\anaconda3\\lib\\site-packages (from pytest>=5.2.2->pandas_plink->genoml2) (1.9.0)\n",
      "Requirement already satisfied: packaging in c:\\users\\nihyc\\anaconda3\\lib\\site-packages (from pytest>=5.2.2->pandas_plink->genoml2) (19.0)\n",
      "Requirement already satisfied: locket in c:\\users\\nihyc\\anaconda3\\lib\\site-packages (from partd>=0.3.10; extra == \"dataframe\"->dask[array,dataframe]>=2.6.0->pandas_plink->genoml2) (0.2.0)\n",
      "Requirement already satisfied: zipp>=0.5 in c:\\users\\nihyc\\anaconda3\\lib\\site-packages (from importlib-metadata>=0.12; python_version < \"3.8\"->pytest>=5.2.2->pandas_plink->genoml2) (3.3.0)\n",
      "Note: you may need to restart the kernel to use updated packages.\n"
     ]
    }
   ],
   "source": [
    "pip install genoml2"
   ]
  },
  {
   "cell_type": "code",
   "execution_count": 10,
   "metadata": {},
   "outputs": [
    {
     "name": "stdout",
     "output_type": "stream",
     "text": [
      "Requirement already satisfied: genoml in c:\\users\\nihyc\\anaconda3\\lib\\site-packages (1.0.4)\n",
      "Requirement already satisfied: pandas-plink in c:\\users\\nihyc\\anaconda3\\lib\\site-packages (from genoml) (2.2.1)\n",
      "Requirement already satisfied: numpy in c:\\users\\nihyc\\anaconda3\\lib\\site-packages (from genoml) (1.16.2)\n",
      "Requirement already satisfied: docopt in c:\\users\\nihyc\\anaconda3\\lib\\site-packages (from genoml) (0.6.2)\n",
      "Requirement already satisfied: requests in c:\\users\\nihyc\\anaconda3\\lib\\site-packages (from genoml) (2.21.0)\n",
      "Requirement already satisfied: rpy2 in c:\\users\\nihyc\\anaconda3\\lib\\site-packages (from genoml) (3.3.6)\n",
      "Requirement already satisfied: tqdm in c:\\users\\nihyc\\anaconda3\\lib\\site-packages (from genoml) (4.50.2)\n",
      "Requirement already satisfied: xarray>=0.16.1 in c:\\users\\nihyc\\anaconda3\\lib\\site-packages (from pandas-plink->genoml) (0.16.1)\n",
      "Requirement already satisfied: pandas>=1.1.3 in c:\\users\\nihyc\\anaconda3\\lib\\site-packages (from pandas-plink->genoml) (1.1.3)\n",
      "Requirement already satisfied: zstandard>=0.13.0 in c:\\users\\nihyc\\anaconda3\\lib\\site-packages (from pandas-plink->genoml) (0.14.0)\n",
      "Requirement already satisfied: pytest>=5.2.2 in c:\\users\\nihyc\\anaconda3\\lib\\site-packages (from pandas-plink->genoml) (6.1.1)\n",
      "Requirement already satisfied: dask[array,dataframe]>=2.6.0 in c:\\users\\nihyc\\anaconda3\\lib\\site-packages (from pandas-plink->genoml) (2.30.0)\n",
      "Requirement already satisfied: cffi>=1.14.3 in c:\\users\\nihyc\\anaconda3\\lib\\site-packages (from pandas-plink->genoml) (1.14.3)\n",
      "Requirement already satisfied: Deprecated>=1.2.6 in c:\\users\\nihyc\\anaconda3\\lib\\site-packages (from pandas-plink->genoml) (1.2.10)\n",
      "Requirement already satisfied: idna<2.9,>=2.5 in c:\\users\\nihyc\\anaconda3\\lib\\site-packages (from requests->genoml) (2.8)\n",
      "Requirement already satisfied: certifi>=2017.4.17 in c:\\users\\nihyc\\anaconda3\\lib\\site-packages (from requests->genoml) (2019.3.9)\n",
      "Requirement already satisfied: chardet<3.1.0,>=3.0.2 in c:\\users\\nihyc\\anaconda3\\lib\\site-packages (from requests->genoml) (3.0.4)\n",
      "Requirement already satisfied: urllib3<1.25,>=1.21.1 in c:\\users\\nihyc\\anaconda3\\lib\\site-packages (from requests->genoml) (1.24.1)\n",
      "Requirement already satisfied: pytz in c:\\users\\nihyc\\anaconda3\\lib\\site-packages (from rpy2->genoml) (2018.9)\n",
      "Requirement already satisfied: tzlocal in c:\\users\\nihyc\\anaconda3\\lib\\site-packages (from rpy2->genoml) (2.1)\n",
      "Requirement already satisfied: jinja2 in c:\\users\\nihyc\\anaconda3\\lib\\site-packages (from rpy2->genoml) (2.10)\n",
      "Requirement already satisfied: setuptools>=38.4 in c:\\users\\nihyc\\anaconda3\\lib\\site-packages (from xarray>=0.16.1->pandas-plink->genoml) (40.8.0)\n",
      "Requirement already satisfied: python-dateutil>=2.7.3 in c:\\users\\nihyc\\anaconda3\\lib\\site-packages (from pandas>=1.1.3->pandas-plink->genoml) (2.8.0)\n",
      "Requirement already satisfied: pluggy<1.0,>=0.12 in c:\\users\\nihyc\\anaconda3\\lib\\site-packages (from pytest>=5.2.2->pandas-plink->genoml) (0.13.1)\n",
      "Requirement already satisfied: atomicwrites>=1.0; sys_platform == \"win32\" in c:\\users\\nihyc\\anaconda3\\lib\\site-packages (from pytest>=5.2.2->pandas-plink->genoml) (1.3.0)\n",
      "Requirement already satisfied: colorama; sys_platform == \"win32\" in c:\\users\\nihyc\\anaconda3\\lib\\site-packages (from pytest>=5.2.2->pandas-plink->genoml) (0.4.1)\n",
      "Requirement already satisfied: iniconfig in c:\\users\\nihyc\\anaconda3\\lib\\site-packages (from pytest>=5.2.2->pandas-plink->genoml) (1.1.1)\n",
      "Requirement already satisfied: py>=1.8.2 in c:\\users\\nihyc\\anaconda3\\lib\\site-packages (from pytest>=5.2.2->pandas-plink->genoml) (1.9.0)\n",
      "Requirement already satisfied: importlib-metadata>=0.12; python_version < \"3.8\" in c:\\users\\nihyc\\anaconda3\\lib\\site-packages (from pytest>=5.2.2->pandas-plink->genoml) (2.0.0)\n",
      "Requirement already satisfied: toml in c:\\users\\nihyc\\anaconda3\\lib\\site-packages (from pytest>=5.2.2->pandas-plink->genoml) (0.10.1)\n",
      "Requirement already satisfied: attrs>=17.4.0 in c:\\users\\nihyc\\anaconda3\\lib\\site-packages (from pytest>=5.2.2->pandas-plink->genoml) (19.1.0)\n",
      "Requirement already satisfied: packaging in c:\\users\\nihyc\\anaconda3\\lib\\site-packages (from pytest>=5.2.2->pandas-plink->genoml) (19.0)\n",
      "Requirement already satisfied: pyyaml in c:\\users\\nihyc\\anaconda3\\lib\\site-packages (from dask[array,dataframe]>=2.6.0->pandas-plink->genoml) (5.1)\n",
      "Requirement already satisfied: toolz>=0.8.2; extra == \"array\" in c:\\users\\nihyc\\anaconda3\\lib\\site-packages (from dask[array,dataframe]>=2.6.0->pandas-plink->genoml) (0.9.0)\n",
      "Requirement already satisfied: partd>=0.3.10; extra == \"dataframe\" in c:\\users\\nihyc\\anaconda3\\lib\\site-packages (from dask[array,dataframe]>=2.6.0->pandas-plink->genoml) (0.3.10)\n",
      "Requirement already satisfied: fsspec>=0.6.0; extra == \"dataframe\" in c:\\users\\nihyc\\anaconda3\\lib\\site-packages (from dask[array,dataframe]>=2.6.0->pandas-plink->genoml) (0.8.4)\n",
      "Requirement already satisfied: pycparser in c:\\users\\nihyc\\anaconda3\\lib\\site-packages (from cffi>=1.14.3->pandas-plink->genoml) (2.19)\n",
      "Requirement already satisfied: wrapt<2,>=1.10 in c:\\users\\nihyc\\anaconda3\\lib\\site-packages (from Deprecated>=1.2.6->pandas-plink->genoml) (1.11.1)\n",
      "Requirement already satisfied: MarkupSafe>=0.23 in c:\\users\\nihyc\\anaconda3\\lib\\site-packages (from jinja2->rpy2->genoml) (1.1.1)\n",
      "Requirement already satisfied: six>=1.5 in c:\\users\\nihyc\\anaconda3\\lib\\site-packages (from python-dateutil>=2.7.3->pandas>=1.1.3->pandas-plink->genoml) (1.12.0)\n",
      "Requirement already satisfied: zipp>=0.5 in c:\\users\\nihyc\\anaconda3\\lib\\site-packages (from importlib-metadata>=0.12; python_version < \"3.8\"->pytest>=5.2.2->pandas-plink->genoml) (3.3.0)\n",
      "Requirement already satisfied: pyparsing>=2.0.2 in c:\\users\\nihyc\\anaconda3\\lib\\site-packages (from packaging->pytest>=5.2.2->pandas-plink->genoml) (2.3.1)\n",
      "Requirement already satisfied: locket in c:\\users\\nihyc\\anaconda3\\lib\\site-packages (from partd>=0.3.10; extra == \"dataframe\"->dask[array,dataframe]>=2.6.0->pandas-plink->genoml) (0.2.0)\n",
      "Note: you may need to restart the kernel to use updated packages.\n"
     ]
    }
   ],
   "source": [
    "pip install genoml"
   ]
  }
 ],
 "metadata": {
  "kernelspec": {
   "display_name": "Python 3",
   "language": "python",
   "name": "python3"
  },
  "language_info": {
   "codemirror_mode": {
    "name": "ipython",
    "version": 3
   },
   "file_extension": ".py",
   "mimetype": "text/x-python",
   "name": "python",
   "nbconvert_exporter": "python",
   "pygments_lexer": "ipython3",
   "version": "3.7.3"
  }
 },
 "nbformat": 4,
 "nbformat_minor": 4
}
