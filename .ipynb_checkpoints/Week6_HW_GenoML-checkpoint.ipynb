{
 "cells": [
  {
   "cell_type": "code",
   "execution_count": 1,
   "metadata": {},
   "outputs": [],
   "source": [
    "import os\n",
    "import sys"
   ]
  },
  {
   "cell_type": "code",
   "execution_count": 2,
   "metadata": {},
   "outputs": [
    {
     "name": "stdout",
     "output_type": "stream",
     "text": [
      "Requirement already satisfied: genoml2 in c:\\users\\cnrm\\documents\\github\\biof309\\genoml2 (1.0.0b4)\n",
      "Requirement already satisfied: joblib in c:\\users\\cnrm\\anaconda3\\lib\\site-packages (from genoml2) (0.13.2)\n",
      "Requirement already satisfied: matplotlib in c:\\users\\cnrm\\anaconda3\\lib\\site-packages (from genoml2) (3.1.1)\n",
      "Requirement already satisfied: numpy in c:\\users\\cnrm\\anaconda3\\lib\\site-packages (from genoml2) (1.16.5)\n",
      "Requirement already satisfied: tables in c:\\users\\cnrm\\anaconda3\\lib\\site-packages (from genoml2) (3.6.1)\n",
      "Requirement already satisfied: pandas in c:\\users\\cnrm\\anaconda3\\lib\\site-packages (from genoml2) (0.25.1)\n",
      "Requirement already satisfied: pandas_plink in c:\\users\\cnrm\\appdata\\roaming\\python\\python37\\site-packages (from genoml2) (2.2.1)\n",
      "Requirement already satisfied: requests in c:\\users\\cnrm\\anaconda3\\lib\\site-packages (from genoml2) (2.22.0)\n",
      "Requirement already satisfied: scikit-learn in c:\\users\\cnrm\\anaconda3\\lib\\site-packages (from genoml2) (0.21.3)\n",
      "Requirement already satisfied: scipy in c:\\users\\cnrm\\anaconda3\\lib\\site-packages (from genoml2) (1.3.1)\n",
      "Requirement already satisfied: seaborn in c:\\users\\cnrm\\anaconda3\\lib\\site-packages (from genoml2) (0.9.0)\n",
      "Requirement already satisfied: statsmodels in c:\\users\\cnrm\\anaconda3\\lib\\site-packages (from genoml2) (0.10.1)\n",
      "Requirement already satisfied: xgboost in c:\\users\\cnrm\\appdata\\roaming\\python\\python37\\site-packages (from genoml2) (1.2.1)\n",
      "Requirement already satisfied: cycler>=0.10 in c:\\users\\cnrm\\anaconda3\\lib\\site-packages (from matplotlib->genoml2) (0.10.0)\n",
      "Requirement already satisfied: kiwisolver>=1.0.1 in c:\\users\\cnrm\\anaconda3\\lib\\site-packages (from matplotlib->genoml2) (1.1.0)\n",
      "Requirement already satisfied: pyparsing!=2.0.4,!=2.1.2,!=2.1.6,>=2.0.1 in c:\\users\\cnrm\\anaconda3\\lib\\site-packages (from matplotlib->genoml2) (2.4.2)\n",
      "Requirement already satisfied: python-dateutil>=2.1 in c:\\users\\cnrm\\anaconda3\\lib\\site-packages (from matplotlib->genoml2) (2.8.0)\n",
      "Requirement already satisfied: numexpr>=2.6.2 in c:\\users\\cnrm\\anaconda3\\lib\\site-packages (from tables->genoml2) (2.7.0)\n",
      "Requirement already satisfied: pytz>=2017.2 in c:\\users\\cnrm\\anaconda3\\lib\\site-packages (from pandas->genoml2) (2019.3)\n",
      "Requirement already satisfied: tqdm>=4.36.1 in c:\\users\\cnrm\\anaconda3\\lib\\site-packages (from pandas_plink->genoml2) (4.36.1)\n",
      "Requirement already satisfied: dask[array,dataframe]>=2.6.0 in c:\\users\\cnrm\\appdata\\roaming\\python\\python37\\site-packages (from pandas_plink->genoml2) (2.30.0)\n",
      "Requirement already satisfied: xarray>=0.16.1 in c:\\users\\cnrm\\anaconda3\\lib\\site-packages (from pandas_plink->genoml2) (0.16.1)\n",
      "Requirement already satisfied: pytest>=5.2.2 in c:\\users\\cnrm\\anaconda3\\lib\\site-packages (from pandas_plink->genoml2) (6.1.1)\n",
      "Requirement already satisfied: Deprecated>=1.2.6 in c:\\users\\cnrm\\anaconda3\\lib\\site-packages (from pandas_plink->genoml2) (1.2.10)\n",
      "Requirement already satisfied: zstandard>=0.13.0 in c:\\users\\cnrm\\appdata\\roaming\\python\\python37\\site-packages (from pandas_plink->genoml2) (0.14.0)\n",
      "Requirement already satisfied: cffi>=1.14.3 in c:\\users\\cnrm\\anaconda3\\lib\\site-packages (from pandas_plink->genoml2) (1.14.3)\n",
      "Requirement already satisfied: certifi>=2017.4.17 in c:\\users\\cnrm\\anaconda3\\lib\\site-packages (from requests->genoml2) (2019.9.11)\n",
      "Requirement already satisfied: idna<2.9,>=2.5 in c:\\users\\cnrm\\anaconda3\\lib\\site-packages (from requests->genoml2) (2.8)\n",
      "Requirement already satisfied: urllib3!=1.25.0,!=1.25.1,<1.26,>=1.21.1 in c:\\users\\cnrm\\anaconda3\\lib\\site-packages (from requests->genoml2) (1.24.2)\n",
      "Requirement already satisfied: chardet<3.1.0,>=3.0.2 in c:\\users\\cnrm\\anaconda3\\lib\\site-packages (from requests->genoml2) (3.0.4)\n",
      "Requirement already satisfied: patsy>=0.4.0 in c:\\users\\cnrm\\anaconda3\\lib\\site-packages (from statsmodels->genoml2) (0.5.1)\n",
      "Requirement already satisfied: six in c:\\users\\cnrm\\anaconda3\\lib\\site-packages (from cycler>=0.10->matplotlib->genoml2) (1.12.0)\n",
      "Requirement already satisfied: setuptools in c:\\users\\cnrm\\anaconda3\\lib\\site-packages (from kiwisolver>=1.0.1->matplotlib->genoml2) (41.4.0)\n",
      "Requirement already satisfied: pyyaml in c:\\users\\cnrm\\anaconda3\\lib\\site-packages (from dask[array,dataframe]>=2.6.0->pandas_plink->genoml2) (5.1.2)\n",
      "Requirement already satisfied: toolz>=0.8.2; extra == \"array\" in c:\\users\\cnrm\\anaconda3\\lib\\site-packages (from dask[array,dataframe]>=2.6.0->pandas_plink->genoml2) (0.10.0)\n",
      "Requirement already satisfied: fsspec>=0.6.0; extra == \"dataframe\" in c:\\users\\cnrm\\appdata\\roaming\\python\\python37\\site-packages (from dask[array,dataframe]>=2.6.0->pandas_plink->genoml2) (0.8.4)\n",
      "Requirement already satisfied: partd>=0.3.10; extra == \"dataframe\" in c:\\users\\cnrm\\anaconda3\\lib\\site-packages (from dask[array,dataframe]>=2.6.0->pandas_plink->genoml2) (1.0.0)\n",
      "Requirement already satisfied: py>=1.8.2 in c:\\users\\cnrm\\anaconda3\\lib\\site-packages (from pytest>=5.2.2->pandas_plink->genoml2) (1.9.0)\n",
      "Requirement already satisfied: packaging in c:\\users\\cnrm\\anaconda3\\lib\\site-packages (from pytest>=5.2.2->pandas_plink->genoml2) (19.2)\n",
      "Requirement already satisfied: attrs>=17.4.0 in c:\\users\\cnrm\\anaconda3\\lib\\site-packages (from pytest>=5.2.2->pandas_plink->genoml2) (19.2.0)\n",
      "Requirement already satisfied: importlib-metadata>=0.12; python_version < \"3.8\" in c:\\users\\cnrm\\anaconda3\\lib\\site-packages (from pytest>=5.2.2->pandas_plink->genoml2) (0.23)\n",
      "Requirement already satisfied: toml in c:\\users\\cnrm\\anaconda3\\lib\\site-packages (from pytest>=5.2.2->pandas_plink->genoml2) (0.10.1)\n",
      "Requirement already satisfied: pluggy<1.0,>=0.12 in c:\\users\\cnrm\\anaconda3\\lib\\site-packages (from pytest>=5.2.2->pandas_plink->genoml2) (0.13.0)\n",
      "Requirement already satisfied: colorama; sys_platform == \"win32\" in c:\\users\\cnrm\\anaconda3\\lib\\site-packages (from pytest>=5.2.2->pandas_plink->genoml2) (0.4.1)\n",
      "Requirement already satisfied: iniconfig in c:\\users\\cnrm\\anaconda3\\lib\\site-packages (from pytest>=5.2.2->pandas_plink->genoml2) (1.1.1)\n",
      "Requirement already satisfied: atomicwrites>=1.0; sys_platform == \"win32\" in c:\\users\\cnrm\\anaconda3\\lib\\site-packages (from pytest>=5.2.2->pandas_plink->genoml2) (1.3.0)\n",
      "Requirement already satisfied: wrapt<2,>=1.10 in c:\\users\\cnrm\\anaconda3\\lib\\site-packages (from Deprecated>=1.2.6->pandas_plink->genoml2) (1.11.2)\n",
      "Requirement already satisfied: pycparser in c:\\users\\cnrm\\anaconda3\\lib\\site-packages (from cffi>=1.14.3->pandas_plink->genoml2) (2.19)\n",
      "Requirement already satisfied: locket in c:\\users\\cnrm\\anaconda3\\lib\\site-packages (from partd>=0.3.10; extra == \"dataframe\"->dask[array,dataframe]>=2.6.0->pandas_plink->genoml2) (0.2.0)\n",
      "Requirement already satisfied: zipp>=0.5 in c:\\users\\cnrm\\anaconda3\\lib\\site-packages (from importlib-metadata>=0.12; python_version < \"3.8\"->pytest>=5.2.2->pandas_plink->genoml2) (0.6.0)\n",
      "Requirement already satisfied: more-itertools in c:\\users\\cnrm\\anaconda3\\lib\\site-packages (from zipp>=0.5->importlib-metadata>=0.12; python_version < \"3.8\"->pytest>=5.2.2->pandas_plink->genoml2) (7.2.0)\n",
      "Note: you may need to restart the kernel to use updated packages.\n"
     ]
    }
   ],
   "source": [
    "pip install genoml2"
   ]
  },
  {
   "cell_type": "code",
   "execution_count": 3,
   "metadata": {},
   "outputs": [
    {
     "name": "stdout",
     "output_type": "stream",
     "text": [
      "Requirement already up-to-date: tables in c:\\users\\cnrm\\anaconda3\\lib\\site-packages (3.6.1)\n",
      "Requirement already satisfied, skipping upgrade: numexpr>=2.6.2 in c:\\users\\cnrm\\anaconda3\\lib\\site-packages (from tables) (2.7.0)\n",
      "Requirement already satisfied, skipping upgrade: numpy>=1.9.3 in c:\\users\\cnrm\\anaconda3\\lib\\site-packages (from tables) (1.16.5)\n",
      "Note: you may need to restart the kernel to use updated packages.\n"
     ]
    }
   ],
   "source": [
    "pip install tables --upgrade"
   ]
  },
  {
   "cell_type": "code",
   "execution_count": 8,
   "metadata": {},
   "outputs": [
    {
     "ename": "SyntaxError",
     "evalue": "invalid syntax (<ipython-input-8-4e752814fb4a>, line 3)",
     "output_type": "error",
     "traceback": [
      "\u001b[1;36m  File \u001b[1;32m\"<ipython-input-8-4e752814fb4a>\"\u001b[1;36m, line \u001b[1;32m3\u001b[0m\n\u001b[1;33m    genoml discrete supervised munge \\\u001b[0m\n\u001b[1;37m                  ^\u001b[0m\n\u001b[1;31mSyntaxError\u001b[0m\u001b[1;31m:\u001b[0m invalid syntax\n"
     ]
    }
   ],
   "source": [
    "# Munging\n",
    "%%bash\n",
    "genoml discrete supervised munge \\\n",
    "--prefix outputs/test_discrete_geno \\\n",
    "--geno examples/discrete/training \\\n",
    "--pheno examples/discrete/training_pheno.csv"
   ]
  }
 ],
 "metadata": {
  "kernelspec": {
   "display_name": "Python 3",
   "language": "python",
   "name": "python3"
  },
  "language_info": {
   "codemirror_mode": {
    "name": "ipython",
    "version": 3
   },
   "file_extension": ".py",
   "mimetype": "text/x-python",
   "name": "python",
   "nbconvert_exporter": "python",
   "pygments_lexer": "ipython3",
   "version": "3.7.4"
  }
 },
 "nbformat": 4,
 "nbformat_minor": 4
}
